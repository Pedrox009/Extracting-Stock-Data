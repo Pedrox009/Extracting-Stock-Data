<h1>Extracting and Visualizing Stock Data</h1>
<h2>Description</h2>
We will use webscraping and yfinance to obtain historical stock data from Tesla and Game Stop.
We will then create an interactive plot showcasing the stock price and company's revenue and also a share open prices vs date plots.
#Extensions required

#!pip install yfinance
#!pip install bs4
#!pip install nbformat
#!pip install --upgrade plotly
import yfinance as yf
import pandas as pd
import requests
from bs4 import BeautifulSoup
import plotly.graph_objects as go
from plotly.subplots import make_subplots
import plotly.io as pio
pio.renderers.default = "iframe"
import warnings
# Ignore all warnings
warnings.filterwarnings("ignore", category=FutureWarning)
## Define Graphing Function

In this section, we define the function `make_graph`. It takes a dataframe with stock and revenue data, and the name of the stock.

def make_graph(stock_data, revenue_data, stock):
    fig = make_subplots(rows=2, cols=1, shared_xaxes=True, subplot_titles=("Historical Share Price", "Historical Revenue"), vertical_spacing = .3)
    stock_data_specific = stock_data[stock_data.Date <= '2021-06-14']
    revenue_data_specific = revenue_data[revenue_data.Date <= '2021-04-30']
    fig.add_trace(go.Scatter(x=pd.to_datetime(stock_data_specific.Date, infer_datetime_format=True), y=stock_data_specific.Close.astype("float"), name="Share Price"), row=1, col=1)
    fig.add_trace(go.Scatter(x=pd.to_datetime(revenue_data_specific.Date, infer_datetime_format=True), y=revenue_data_specific.Revenue.astype("float"), name="Revenue"), row=2, col=1)
    fig.update_xaxes(title_text="Date", row=1, col=1)
    fig.update_xaxes(title_text="Date", row=2, col=1)
    fig.update_yaxes(title_text="Price ($US)", row=1, col=1)
    fig.update_yaxes(title_text="Revenue ($US Millions)", row=2, col=1)
    fig.update_layout(showlegend=False,
    height=900,
    title=stock+' Stock Graph',
    xaxis_rangeslider_visible=True)
    fig.show()
    from IPython.display import display, HTML
    fig_html = fig.to_html()
    display(HTML(fig_html))
## Tesla: yfinance and webscraping to Extract Stock Data

Tesla = yf.Ticker("TSLA") #obtaining tesla's stock data with Ticker
tesla_data = Tesla.history(period="max") #obtain maximum historical data
tesla_data.reset_index(inplace=True) #resetting table index
tesla_data.head()
url = "https://cf-courses-data.s3.us.cloud-object-storage.appdomain.cloud/IBMDeveloperSkillsNetwork-PY0220EN-SkillsNetwork/labs/project/revenue.htm"
html_data  = requests.get(url).text #downloads webpage and obtains text
soup = BeautifulSoup(html_data, 'html.parser') #Parsing HTML data
Using `BeautifulSoup` we extract the table with `Tesla Revenue` and store it into a dataframe named `tesla_revenue`.

tesla_revenue = pd.DataFrame(columns=["Date","Revenue"]) #Create empty data frame

# Isolate the body of the table which contains all the information then we loop through each row and find all the column values for each row
for row in soup.find("tbody").find_all('tr'):
    col = row.find_all("td")
    date = col[0].text
    revenue = col[1].text
   
    
    # Append the data of each row to the table
    tesla_revenue = pd.concat([tesla_revenue,pd.DataFrame({"Date":[date], "Revenue":[revenue]})], ignore_index=True) 

tesla_revenue["Revenue"] = tesla_revenue["Revenue"].str.replace(r'[,\$]', "", regex=True).str.strip() #remove comme and $ sign from revenue column
#remove an null or empty strings in the Revenue column
tesla_revenue.dropna(inplace=True)
tesla_revenue = tesla_revenue[tesla_revenue["Revenue"] != ""]
tesla_revenue.head()
## Game Stop: yfinance and webscraping to Extract Stock Data

GameStop = yf.Ticker("GME") #obtaining Game Stop's stock data with Ticker
gme_data = GameStop.history(period="max") #obtain maximum historical data
gme_data.reset_index(inplace=True) #resetting table index
gme_data.head()
url = "https://cf-courses-data.s3.us.cloud-object-storage.appdomain.cloud/IBMDeveloperSkillsNetwork-PY0220EN-SkillsNetwork/labs/project/stock.html"
html_data_2  = requests.get(url).text #downloads webpage and obtains text
soup = BeautifulSoup(html_data_2, 'html.parser') #Parsing HTML data
gme_revenue=pd.DataFrame(columns=["Date","Revenue"]) #Create empty data frame
# Isolate the body of the table which contains all the information then we loop through each row and find all the column values for each row
for row in soup.find("tbody").find_all('tr'):
    col = row.find_all("td")
    date = col[0].text
    revenue = col[1].text
   
    
    # Append the data of each row to the table
    gme_revenue = pd.concat([gme_revenue,pd.DataFrame({"Date":[date], "Revenue":[revenue]})], ignore_index=True) 

gme_revenue["Revenue"] = gme_revenue['Revenue'].str.replace(r'[,\$]', "", regex=True).str.strip() #remove comme and $ sign from revenue column
#remove an null or empty strings in the Revenue column
gme_revenue.dropna(inplace=True)
gme_revenue = gme_revenue[gme_revenue['Revenue'] != ""]

gme_revenue.head()
## Apple: yfinance and webscraping to Extract Stock Data

Apple = yf.Ticker("AAPL") #obtaining Apples's stock data with Ticker
apple_data = Apple.history(period="max") #obtain maximum historical data
apple_data.reset_index(inplace=True) #resetting table index
apple_data.head()
url = "https://cf-courses-data.s3.us.cloud-object-storage.appdomain.cloud/IBMDeveloperSkillsNetwork-PY0220EN-SkillsNetwork/labs/project/stock.html"
html_data_2  = requests.get(url).text #downloads webpage and obtains text
soup = BeautifulSoup(html_data_2, 'html.parser') #Parsing HTML data
## Plot All Stock Graphs

make_graph(tesla_data,tesla_revenue,'Tesla')
ax = tesla_data.plot(x="Date", y="Open")
ax.set_title("Tesla Opening Share Prices vs Date")

make_graph(gme_data,gme_revenue,'GameStop')
bx = gme_data.plot(x="Date", y="Open")
bx.set_title("Game Stop Opening Share Prices vs Date")
